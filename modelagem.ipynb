{
 "cells": [
  {
   "cell_type": "markdown",
   "id": "1df77411-fb45-4134-b3c3-d7bd79497112",
   "metadata": {},
   "source": [
    "# <a> [Lighthouse] Desafio Cientista de Dados </a>"
   ]
  },
  {
   "cell_type": "markdown",
   "id": "644c4687-ba11-4698-9488-66c4c4f1be14",
   "metadata": {},
   "source": [
    "**Motivação**\n",
    "\n",
    "Este desafio proposto pela INDICIUM representa uma excelente oportunidade para colocar em prática meus conhecimentos em resolução de problemas de negócios, análise de dados e desenvolvimento de modelos preditivos.\n",
    "\n",
    "**Contexto do Desafio**\n",
    "\n",
    "“Você foi alocado(a) em um time da Indicium que está trabalhando atualmente junto a um cliente que o core business é compra e venda de veículos usados. Essa empresa está com dificuldades na área de revenda dos automóveis usados em seu catálogo. Para resolver esse problema, a empresa comprou uma base de dados de um marketplace de compra e venda para entender melhor o mercado nacional, de forma a conseguir precificar o seu catálogo de forma mais competitiva e assim recuperar o mau desempenho neste setor. Seu objetivo é analisar os dados para responder às perguntas de negócios feitas pelo cliente e criar um modelo preditivo que precifique os carros do cliente de forma que eles fiquem o mais próximos dos valores de mercado.”\n",
    "\n",
    "**Objetivo**\n",
    "\n",
    "Analisar os dados disponíveis para responder de forma assertiva às perguntas de negócio formuladas pelo cliente e, com base nessa análise, desenvolver um modelo preditivo capaz de estimar os preços dos veículos de maneira competitiva, aproximando-os ao máximo dos valores praticados no mercado."
   ]
  },
  {
   "cell_type": "markdown",
   "id": "ab7ffeee-c387-4684-9df0-40829597785a",
   "metadata": {},
   "source": [
    "# Notebook: modelagem preditiva (modelagem.ipynb)\n",
    "\n",
    "**- 1.Carregar os dados:** \n",
    "    \n",
    "    - Ler os arquivos cars_training.csv e cars_test.csv.\n",
    "\n",
    "***- 2.Pré-processamento dos dados:***\n",
    "    \n",
    "    - Criar uma cópia independente do DataFrame.\n",
    "    - Remover a coluna 'id' e 'veiculo_alienado' do conjunto de features.\n",
    "    - Converte valores categóricos (como texto) em valores numéricos.\n",
    "\n",
    "***- 3.Treinamento do modelo:***\n",
    "    \n",
    "    - Separar as features (X) e a variável alvo (y) do dataset de treinamento.\n",
    "    - Criar um modelo de regressão (usaremos o RandomForestRegressor).\n",
    "    - Considera a média dos erros absolutos de um grupo de previsões e observações como uma medida da magnitude dos erros para todo o grupo.\n",
    "    \n",
    "***- 4.Previsão no dataset de teste:***\n",
    "    \n",
    "    - Fazer previsões na coluna 'preco' do dataset de teste.\n",
    "    \n",
    "***- 5.Salvar o resulta (opcional):***\n",
    "    \n",
    "    - Salvar este DataFrame em um arquivo CSV chamado 'precos_previstos.csv'."
   ]
  },
  {
   "cell_type": "markdown",
   "id": "5659849d-5e35-49cf-806b-0ab6335e0b8d",
   "metadata": {},
   "source": [
    "### Índice\n",
    "- [1. Importando Bibliotecas e Configurando Pandas](#1.)\n",
    "\n",
    "- [2. Carregar os dados](#2.)\n",
    "\n",
    "- [3. Pré-processamento (treino)](#3.)\n",
    "\n",
    "- [4. Treinamento do modelo](#4.)\n",
    "\n",
    "- [5. Resultado](#5.)\n"
   ]
  },
  {
   "cell_type": "markdown",
   "id": "9859aa26-baee-40a5-8591-b0f1f24d029c",
   "metadata": {},
   "source": [
    "## <a id='1.'></a>1. Importando Bibliotecas e Configurando Pandas"
   ]
  },
  {
   "cell_type": "code",
   "execution_count": 1,
   "id": "5331797d-fa6b-4351-964b-23b2f3751f8e",
   "metadata": {},
   "outputs": [
    {
     "name": "stdout",
     "output_type": "stream",
     "text": [
      "The history saving thread hit an unexpected error (OperationalError('attempt to write a readonly database')).History will not be written to the database.\n"
     ]
    }
   ],
   "source": [
    "import pandas as pd\n",
    "import numpy as np\n",
    "from sklearn.model_selection import train_test_split\n",
    "from sklearn.ensemble import RandomForestRegressor\n",
    "from sklearn.preprocessing import LabelEncoder\n",
    "from sklearn.metrics import mean_absolute_error\n"
   ]
  },
  {
   "cell_type": "code",
   "execution_count": 2,
   "id": "bdaa22b8-07ce-46a5-bc7b-fc6cba571504",
   "metadata": {},
   "outputs": [],
   "source": [
    "# configurando pandas para não mostrar notação científica para números\n",
    "pd.set_option('display.float_format', lambda x: '%.2f' % x)\n",
    "\n",
    "# configurando pandas para ignorar avisos\n",
    "import warnings\n",
    "warnings.filterwarnings('ignore')"
   ]
  },
  {
   "cell_type": "markdown",
   "id": "8b3b4719-fbde-4b84-be66-d05c4a845c5c",
   "metadata": {},
   "source": [
    "## <a id='2.'></a>2. Carregar os dados"
   ]
  },
  {
   "cell_type": "code",
   "execution_count": 4,
   "id": "2fc3a69b-f2e7-4684-99ea-13eb75fd88a1",
   "metadata": {},
   "outputs": [],
   "source": [
    "# Carregar os dados\n",
    "df_train = pd.read_csv('data/cars_training.csv', encoding='utf-16', sep='\\t')\n",
    "df_test = pd.read_csv('data/cars_test.csv', encoding='utf-16', sep='\\t')"
   ]
  },
  {
   "cell_type": "markdown",
   "id": "eeeafd8c-d0e9-46c1-95de-cd75e64bc671",
   "metadata": {},
   "source": [
    "## <a id='3.'></a>3. Pré-processamento (treino)"
   ]
  },
  {
   "cell_type": "code",
   "execution_count": 5,
   "id": "2edcffa2-483c-4bf1-b6bc-30fd780ac739",
   "metadata": {},
   "outputs": [],
   "source": [
    "#Pré-processamento (treino)\n",
    "df = df_train.copy()\n",
    "\n",
    "for col in df.select_dtypes(include='object').columns:\n",
    "    df[col] = df[col].fillna('Não informado')\n",
    "\n",
    "for col in df.select_dtypes(include=['float64', 'int64']).columns:\n",
    "    df[col] = df[col].fillna(df[col].median())\n",
    "\n",
    "df = df.drop(columns=['id', 'veiculo_alienado'])\n",
    "\n",
    "label_encoders = {}\n",
    "for col in df.select_dtypes(include='object').columns:\n",
    "    le = LabelEncoder()\n",
    "    df[col] = le.fit_transform(df[col])\n",
    "    label_encoders[col] = le\n"
   ]
  },
  {
   "cell_type": "markdown",
   "id": "5646c660-15e6-46b6-8ad3-91ffb4bf2d52",
   "metadata": {},
   "source": [
    "## <a id='4.'></a>4. Treinamento do modelo"
   ]
  },
  {
   "cell_type": "code",
   "execution_count": 6,
   "id": "c04c7168-35b8-44f9-8fd5-46c613199c91",
   "metadata": {},
   "outputs": [
    {
     "name": "stdout",
     "output_type": "stream",
     "text": [
      "Erro médio absoluto (MAE): R$ 26,778.80\n"
     ]
    }
   ],
   "source": [
    "# Treinamento do modelo\n",
    "X = df.drop(columns=['preco'])\n",
    "y = df['preco']\n",
    "\n",
    "X_train, X_val, y_train, y_val = train_test_split(X, y, test_size=0.2, random_state=42)\n",
    "\n",
    "model = RandomForestRegressor(n_estimators=100, random_state=42)\n",
    "model.fit(X_train, y_train)\n",
    "\n",
    "y_pred = model.predict(X_val)\n",
    "mae = mean_absolute_error(y_val, y_pred)\n",
    "print(f'Erro médio absoluto (MAE): R$ {mae:,.2f}')"
   ]
  },
  {
   "cell_type": "markdown",
   "id": "edd11523-b346-42fe-b403-f29cebf6a50a",
   "metadata": {},
   "source": [
    "## <a id='5.'></a>5. Preparação do teste + Previsão"
   ]
  },
  {
   "cell_type": "code",
   "execution_count": 7,
   "id": "4dc73a30-8bfa-49fc-8588-b0851c06510c",
   "metadata": {},
   "outputs": [],
   "source": [
    "# Preparação do teste + Previsão\n",
    "df_test_clean = df_test.copy()\n",
    "\n",
    "for col in df_test_clean.select_dtypes(include='object').columns:\n",
    "    df_test_clean[col] = df_test_clean[col].fillna('Não informado')\n",
    "\n",
    "for col in df_test_clean.select_dtypes(include=['float64', 'int64']).columns:\n",
    "    df_test_clean[col] = df_test_clean[col].fillna(df_test_clean[col].median())\n",
    "\n",
    "df_test_clean = df_test_clean.drop(columns=['id', 'veiculo_alienado'])\n",
    "\n",
    "for col, le in label_encoders.items():\n",
    "    if col in df_test_clean.columns:\n",
    "        df_test_clean[col] = df_test_clean[col].apply(lambda x: x if x in le.classes_ else 'Não informado')\n",
    "        if 'Não informado' not in le.classes_:\n",
    "            le.classes_ = np.append(le.classes_, 'Não informado')\n",
    "        df_test_clean[col] = le.transform(df_test_clean[col])\n"
   ]
  },
  {
   "cell_type": "markdown",
   "id": "675ef103-7b14-4cd3-bb59-ee3f05383a32",
   "metadata": {},
   "source": [
    "## <a id='6.'></a>6. Resultado"
   ]
  },
  {
   "cell_type": "code",
   "execution_count": 8,
   "id": "615050a0-1e05-451c-9c4d-6d7b7b1b345d",
   "metadata": {},
   "outputs": [
    {
     "data": {
      "text/html": [
       "<div>\n",
       "<style scoped>\n",
       "    .dataframe tbody tr th:only-of-type {\n",
       "        vertical-align: middle;\n",
       "    }\n",
       "\n",
       "    .dataframe tbody tr th {\n",
       "        vertical-align: top;\n",
       "    }\n",
       "\n",
       "    .dataframe thead th {\n",
       "        text-align: right;\n",
       "    }\n",
       "</style>\n",
       "<table border=\"1\" class=\"dataframe\">\n",
       "  <thead>\n",
       "    <tr style=\"text-align: right;\">\n",
       "      <th></th>\n",
       "      <th>marca</th>\n",
       "      <th>modelo</th>\n",
       "      <th>versao</th>\n",
       "      <th>ano_de_fabricacao</th>\n",
       "      <th>hodometro</th>\n",
       "      <th>preco_previsto</th>\n",
       "    </tr>\n",
       "  </thead>\n",
       "  <tbody>\n",
       "    <tr>\n",
       "      <th>0</th>\n",
       "      <td>NISSAN</td>\n",
       "      <td>VERSA</td>\n",
       "      <td>1.6 16V FLEXSTART V-DRIVE MANUAL</td>\n",
       "      <td>2021</td>\n",
       "      <td>20258.00</td>\n",
       "      <td>75125.42</td>\n",
       "    </tr>\n",
       "    <tr>\n",
       "      <th>1</th>\n",
       "      <td>FIAT</td>\n",
       "      <td>STRADA</td>\n",
       "      <td>1.4 MPI WORKING CS 8V FLEX 2P MANUAL</td>\n",
       "      <td>2021</td>\n",
       "      <td>53045.00</td>\n",
       "      <td>86916.28</td>\n",
       "    </tr>\n",
       "    <tr>\n",
       "      <th>2</th>\n",
       "      <td>AUDI</td>\n",
       "      <td>Q5</td>\n",
       "      <td>2.0 TFSI GASOLINA BLACK S TRONIC</td>\n",
       "      <td>2018</td>\n",
       "      <td>32486.00</td>\n",
       "      <td>244988.59</td>\n",
       "    </tr>\n",
       "    <tr>\n",
       "      <th>3</th>\n",
       "      <td>CHEVROLET</td>\n",
       "      <td>CRUZE</td>\n",
       "      <td>1.4 TURBO LT 16V FLEX 4P AUTOMÁTICO</td>\n",
       "      <td>2019</td>\n",
       "      <td>24937.00</td>\n",
       "      <td>103481.53</td>\n",
       "    </tr>\n",
       "    <tr>\n",
       "      <th>4</th>\n",
       "      <td>FORD</td>\n",
       "      <td>ECOSPORT</td>\n",
       "      <td>1.5 TI-VCT FLEX SE AUTOMÁTICO</td>\n",
       "      <td>2019</td>\n",
       "      <td>62074.00</td>\n",
       "      <td>105435.23</td>\n",
       "    </tr>\n",
       "  </tbody>\n",
       "</table>\n",
       "</div>"
      ],
      "text/plain": [
       "       marca    modelo                                versao  \\\n",
       "0     NISSAN     VERSA      1.6 16V FLEXSTART V-DRIVE MANUAL   \n",
       "1       FIAT    STRADA  1.4 MPI WORKING CS 8V FLEX 2P MANUAL   \n",
       "2       AUDI        Q5      2.0 TFSI GASOLINA BLACK S TRONIC   \n",
       "3  CHEVROLET     CRUZE   1.4 TURBO LT 16V FLEX 4P AUTOMÁTICO   \n",
       "4       FORD  ECOSPORT         1.5 TI-VCT FLEX SE AUTOMÁTICO   \n",
       "\n",
       "   ano_de_fabricacao  hodometro  preco_previsto  \n",
       "0               2021   20258.00        75125.42  \n",
       "1               2021   53045.00        86916.28  \n",
       "2               2018   32486.00       244988.59  \n",
       "3               2019   24937.00       103481.53  \n",
       "4               2019   62074.00       105435.23  "
      ]
     },
     "execution_count": 8,
     "metadata": {},
     "output_type": "execute_result"
    }
   ],
   "source": [
    "# Resultado final\n",
    "precos_previstos = model.predict(df_test_clean)\n",
    "df_test['preco_previsto'] = precos_previstos\n",
    "df_test[['marca', 'modelo', 'versao', 'ano_de_fabricacao', 'hodometro', 'preco_previsto']].head()\n"
   ]
  },
  {
   "cell_type": "code",
   "execution_count": 9,
   "id": "dd999098-6c48-4e00-8fcf-8bd93fe54d6a",
   "metadata": {},
   "outputs": [],
   "source": [
    "# (Opcional) Salvar os resultados\n",
    "df_test.to_csv('data/precos_previstos.csv', index=False, encoding='utf-8')"
   ]
  },
  {
   "cell_type": "code",
   "execution_count": null,
   "id": "3d4c5be2-3387-4dce-9714-01cc5b3120fc",
   "metadata": {},
   "outputs": [],
   "source": []
  }
 ],
 "metadata": {
  "kernelspec": {
   "display_name": "Python 3 (ipykernel)",
   "language": "python",
   "name": "python3"
  },
  "language_info": {
   "codemirror_mode": {
    "name": "ipython",
    "version": 3
   },
   "file_extension": ".py",
   "mimetype": "text/x-python",
   "name": "python",
   "nbconvert_exporter": "python",
   "pygments_lexer": "ipython3",
   "version": "3.12.3"
  }
 },
 "nbformat": 4,
 "nbformat_minor": 5
}
